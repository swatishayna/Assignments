{
 "cells": [
  {
   "cell_type": "raw",
   "metadata": {},
   "source": [
    "1. Create an assert statement that throws an AssertionError if the variable spam is a negative integer.\n",
    "2. Write an assert statement that triggers an AssertionError if the variables eggs and bacon contain strings that are the same as each other, even if their cases are different (that is, 'hello' and 'hello' are considered the same, and 'goodbye' and 'GOODbye' are also considered the same).\n",
    "3. Create an assert statement that throws an AssertionError every time.\n",
    "4. What are the two lines that must be present in your software in order to call logging.debug()?\n",
    "5. What are the two lines that your program must have in order to have logging.debug() send a logging message to a file named programLog.txt?\n",
    "6. What are the five levels of logging?\n",
    "7. What line of code would you add to your software to disable all logging messages?\n",
    "8.Why is using logging messages better than using print() to display the same message?\n",
    "9. What are the differences between the Step Over, Step In, and Step Out buttons in the debugger?\n",
    "10.After you click Continue, when will the debugger stop ?\n",
    "11. What is the concept of a breakpoint?\n"
   ]
  },
  {
   "cell_type": "code",
   "execution_count": 3,
   "metadata": {},
   "outputs": [
    {
     "name": "stdout",
     "output_type": "stream",
     "text": [
      "Enter integer here:--->-1\n"
     ]
    },
    {
     "ename": "AssertionError",
     "evalue": "",
     "output_type": "error",
     "traceback": [
      "\u001b[1;31m---------------------------------------------------------------------------\u001b[0m",
      "\u001b[1;31mAssertionError\u001b[0m                            Traceback (most recent call last)",
      "\u001b[1;32m<ipython-input-3-24be5db47c39>\u001b[0m in \u001b[0;36m<module>\u001b[1;34m\u001b[0m\n\u001b[0;32m      1\u001b[0m \u001b[1;31m#1. Create an assert statement that throws an AssertionError if the variable spam is a negative integer.\u001b[0m\u001b[1;33m\u001b[0m\u001b[1;33m\u001b[0m\u001b[1;33m\u001b[0m\u001b[0m\n\u001b[0;32m      2\u001b[0m \u001b[0mx\u001b[0m \u001b[1;33m=\u001b[0m \u001b[0mint\u001b[0m\u001b[1;33m(\u001b[0m\u001b[0minput\u001b[0m\u001b[1;33m(\u001b[0m\u001b[1;34m\"Enter integer here:--->\"\u001b[0m\u001b[1;33m)\u001b[0m\u001b[1;33m)\u001b[0m\u001b[1;33m\u001b[0m\u001b[1;33m\u001b[0m\u001b[0m\n\u001b[1;32m----> 3\u001b[1;33m \u001b[1;32massert\u001b[0m \u001b[0mx\u001b[0m \u001b[1;33m>=\u001b[0m\u001b[1;36m0\u001b[0m\u001b[1;33m\u001b[0m\u001b[1;33m\u001b[0m\u001b[0m\n\u001b[0m\u001b[0;32m      4\u001b[0m \u001b[0mprint\u001b[0m\u001b[1;33m(\u001b[0m\u001b[1;34m'x is not a negative integer'\u001b[0m\u001b[1;33m)\u001b[0m\u001b[1;33m\u001b[0m\u001b[1;33m\u001b[0m\u001b[0m\n",
      "\u001b[1;31mAssertionError\u001b[0m: "
     ]
    }
   ],
   "source": [
    "#1. Create an assert statement that throws an AssertionError if the variable spam is a negative integer.\n",
    "x = int(input(\"Enter integer here:--->\"))\n",
    "assert x >=0\n",
    "print('x is not a negative integer')"
   ]
  },
  {
   "cell_type": "code",
   "execution_count": 6,
   "metadata": {},
   "outputs": [
    {
     "name": "stdout",
     "output_type": "stream",
     "text": [
      "Enter eggs here---->HELLO\n",
      "Enter bacon here--->heLLo\n"
     ]
    },
    {
     "ename": "AssertionError",
     "evalue": "eggs and bacon are same",
     "output_type": "error",
     "traceback": [
      "\u001b[1;31m---------------------------------------------------------------------------\u001b[0m",
      "\u001b[1;31mAssertionError\u001b[0m                            Traceback (most recent call last)",
      "\u001b[1;32m<ipython-input-6-177aff4b91a5>\u001b[0m in \u001b[0;36m<module>\u001b[1;34m\u001b[0m\n\u001b[0;32m      2\u001b[0m \u001b[0meggs\u001b[0m \u001b[1;33m=\u001b[0m \u001b[0minput\u001b[0m\u001b[1;33m(\u001b[0m\u001b[1;34m\"Enter eggs here---->\"\u001b[0m\u001b[1;33m)\u001b[0m\u001b[1;33m\u001b[0m\u001b[1;33m\u001b[0m\u001b[0m\n\u001b[0;32m      3\u001b[0m \u001b[0mbacon\u001b[0m \u001b[1;33m=\u001b[0m \u001b[0minput\u001b[0m\u001b[1;33m(\u001b[0m\u001b[1;34m\"Enter bacon here--->\"\u001b[0m\u001b[1;33m)\u001b[0m\u001b[1;33m\u001b[0m\u001b[1;33m\u001b[0m\u001b[0m\n\u001b[1;32m----> 4\u001b[1;33m \u001b[1;32massert\u001b[0m \u001b[0meggs\u001b[0m\u001b[1;33m.\u001b[0m\u001b[0mupper\u001b[0m\u001b[1;33m(\u001b[0m\u001b[1;33m)\u001b[0m\u001b[1;33m!=\u001b[0m\u001b[0mbacon\u001b[0m\u001b[1;33m.\u001b[0m\u001b[0mupper\u001b[0m\u001b[1;33m(\u001b[0m\u001b[1;33m)\u001b[0m\u001b[1;33m,\u001b[0m \u001b[1;34m'eggs and bacon are same'\u001b[0m\u001b[1;33m\u001b[0m\u001b[1;33m\u001b[0m\u001b[0m\n\u001b[0m\u001b[0;32m      5\u001b[0m \u001b[0mprint\u001b[0m\u001b[1;33m(\u001b[0m\u001b[1;34m'eggs and bacon are not same'\u001b[0m\u001b[1;33m)\u001b[0m\u001b[1;33m\u001b[0m\u001b[1;33m\u001b[0m\u001b[0m\n",
      "\u001b[1;31mAssertionError\u001b[0m: eggs and bacon are same"
     ]
    }
   ],
   "source": [
    "#Write an assert statement that triggers an AssertionError if the variables eggs and bacon contain strings that are the same as each other, even if their cases are different (that is, 'hello' and 'hello' are considered the same, and 'goodbye' and 'GOODbye' are also considered the same).\n",
    "eggs = input(\"Enter eggs here---->\")\n",
    "bacon = input(\"Enter bacon here--->\")\n",
    "assert eggs.upper()!=bacon.upper(), 'eggs and bacon are same'\n",
    "print('eggs and bacon are not same')"
   ]
  },
  {
   "cell_type": "code",
   "execution_count": 9,
   "metadata": {},
   "outputs": [
    {
     "ename": "AssertionError",
     "evalue": "throws an AssertionError every time",
     "output_type": "error",
     "traceback": [
      "\u001b[1;31m---------------------------------------------------------------------------\u001b[0m",
      "\u001b[1;31mAssertionError\u001b[0m                            Traceback (most recent call last)",
      "\u001b[1;32m<ipython-input-9-5d799121018a>\u001b[0m in \u001b[0;36m<module>\u001b[1;34m\u001b[0m\n\u001b[0;32m      1\u001b[0m \u001b[1;31m#3. Create an assert statement that throws an AssertionError every time.\u001b[0m\u001b[1;33m\u001b[0m\u001b[1;33m\u001b[0m\u001b[1;33m\u001b[0m\u001b[0m\n\u001b[1;32m----> 2\u001b[1;33m \u001b[1;32massert\u001b[0m \u001b[1;32mFalse\u001b[0m\u001b[1;33m,\u001b[0m \u001b[1;34m'throws an AssertionError every time'\u001b[0m\u001b[1;33m\u001b[0m\u001b[1;33m\u001b[0m\u001b[0m\n\u001b[0m",
      "\u001b[1;31mAssertionError\u001b[0m: throws an AssertionError every time"
     ]
    }
   ],
   "source": [
    "#3. Create an assert statement that throws an AssertionError every time.\n",
    "assert False, 'throws an AssertionError every time'"
   ]
  },
  {
   "cell_type": "code",
   "execution_count": 1,
   "metadata": {},
   "outputs": [
    {
     "name": "stderr",
     "output_type": "stream",
     "text": [
      "DEBUG:root:import logging \n",
      "logging.basicConfig() \n",
      "logger = logging.getLogger()\n",
      "logger.setLevel(level = logging.DEBUG) \tshould be written before calling logging.debug()\n"
     ]
    }
   ],
   "source": [
    "#4. What are the two lines that must be present in your software in order to call logging.debug()?\n",
    "import logging\n",
    "logging.basicConfig(level = logging.DEBUG)\n",
    "\n",
    "logging.debug('import logging \\nlogging.basicConfig() \\nlogger = logging.getLogger()\\nlogger.setLevel(level = logging.DEBUG) \\tshould be written before calling logging.debug()')"
   ]
  },
  {
   "cell_type": "code",
   "execution_count": 2,
   "metadata": {},
   "outputs": [],
   "source": [
    "#5. What are the two lines that your program must have in order to have logging.debug() send a logging message to a file named programLog.txt?\n",
    "import logging \n",
    "logging.basicConfig(filename = 'programLog.txt', level = logging.DEBUG, format = '%(asctime)s %(message)s',filemode='w')\n",
    "logging.error('This error message')\n",
    "logging.debug('import logging \\nlogging.basicConfig() \\nlogger = logging.getLogger()\\nlogger.setLevel(level = logging.DEBUG) \\tshould be written before calling logging.debug()')"
   ]
  },
  {
   "cell_type": "code",
   "execution_count": 3,
   "metadata": {},
   "outputs": [
    {
     "name": "stdout",
     "output_type": "stream",
     "text": [
      "2021-06-06 12:06:36,124 This error message\n",
      "2021-06-06 12:06:36,124 import logging \n",
      "logging.basicConfig() \n",
      "logger = logging.getLogger()\n",
      "logger.setLevel(level = logging.DEBUG) \tshould be written before calling logging.debug()\n",
      "2021-06-06 12:07:07,389 This error message\n",
      "2021-06-06 12:07:07,389 import logging \n",
      "logging.basicConfig() \n",
      "logger = logging.getLogger()\n",
      "logger.setLevel(level = logging.DEBUG) \tshould be written before calling logging.debug()\n",
      "\n"
     ]
    }
   ],
   "source": [
    "import os\n",
    "f = open(\"programLog.txt\",'r')\n",
    "print(f.read())"
   ]
  },
  {
   "cell_type": "raw",
   "metadata": {},
   "source": [
    "6. What are the five levels of logging?\n",
    "\n",
    "\n",
    "\n",
    "In programming world every single execution results special type of events and logging records messages associated to these events and these events are categorised into levels, one below the other. There is not any limit to these levels, developers can create levels as required. Howsoever By default in logging module there are 5 levels of logging also known as Severity of Levels.  They are listed below with increasing severity:\n",
    "\n",
    "- debug : It allows logging to record operations in progress of any program and monitor the changes especially in case of any expected potential  error. If level is set to debug then in that case it will capture messages associated to all default levels\n",
    "- info: It records the message when something expected happens. If level is set to info it will record all the messages associated to all default levels except debug.\n",
    "- warning: It records the message when something unexpected happens and this could be a problem in future but the program continues to work. By default the level is set to warning, if you do not explicitly set level to any other level.\n",
    "- error: It records messages when the program stops at any point and is unable to execute further line of codes\n",
    "- critical :  It records error when there is some kind of alert in monitoring system."
   ]
  },
  {
   "cell_type": "code",
   "execution_count": 2,
   "metadata": {},
   "outputs": [],
   "source": [
    "#7. What line of code would you add to your software to disable all logging messages?\n",
    "import logging\n",
    "logging.basicConfig(level = logging.WARNING)\n",
    "logging.disable()\n",
    "logging.error(\"This will not get printed\")\n",
    "logging.info(\"This will not get printed\")"
   ]
  },
  {
   "cell_type": "raw",
   "metadata": {},
   "source": [
    "#8.Why is using logging messages better than using print() to display the same message?\n",
    "We sometime print messages to check if the execution is taking place properly or not howsoever when we code at production level we dont only want to print every required statment but we also need to have record of all the execution taking place.Logging is a good approach for this instead of print statement. "
   ]
  },
  {
   "cell_type": "raw",
   "metadata": {},
   "source": [
    "9. What are the differences between the Step Over, Step In, and Step Out buttons in the debugger?\n",
    "Step Over: This action in Debugger will execute the next line of code and if it is a functon in the next line it will execute it in one go without debugging every single line of the function\n",
    "Step In:    This action in Debugger will execute the next line of code and if it is a functon in the next line debugger will enter into the function and start debugging every single line of the function\n",
    "Step Out: This action in Debugger will return to the line where the current function was called"
   ]
  },
  {
   "cell_type": "raw",
   "metadata": {},
   "source": [
    "10.After you click Continue, when will the debugger stop ?\n",
    "at next breakpoint"
   ]
  },
  {
   "cell_type": "raw",
   "metadata": {},
   "source": [
    "11. What is the concept of a breakpoint?\n",
    "these are the pause points where the debugger will pause/wait in Go action for next command"
   ]
  }
 ],
 "metadata": {
  "kernelspec": {
   "display_name": "Python 3",
   "language": "python",
   "name": "python3"
  },
  "language_info": {
   "codemirror_mode": {
    "name": "ipython",
    "version": 3
   },
   "file_extension": ".py",
   "mimetype": "text/x-python",
   "name": "python",
   "nbconvert_exporter": "python",
   "pygments_lexer": "ipython3",
   "version": "3.8.8"
  }
 },
 "nbformat": 4,
 "nbformat_minor": 4
}
