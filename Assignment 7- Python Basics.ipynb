{
 "cells": [
  {
   "cell_type": "raw",
   "metadata": {},
   "source": [
    "1. What is the name of the feature responsible for generating Regex objects?\n",
    "\n",
    "Answer: re.compile()\n",
    "\n",
    "2. Why do raw strings often appear in Regex objects?\n",
    "\n",
    "Answer: Raw strings are used so that backslashes do not have to be escaped\n",
    "\n",
    "3. What is the return value of the search() method?\n",
    "\n",
    "Answer: If the search is successful, search() returns a match object or None otherwise.\n",
    "\n",
    "4. From a Match item, how do you get the actual strings that match the pattern?\n",
    "Answer: re.match() returns regexobject only if the pattern is present at the starting of the string.using group()\n",
    "\n",
    "5. In the regex which created from the r'(\\d\\d\\d)-(\\d\\d\\d-\\d\\d\\d\\d)', what does group zero cover? Group 2? Group 1?\n",
    "answer: group zero will cover everything that matches the pattern , group2 will cover 3digits then a \"-\" then 4 digits and group1 will cover 3 digits\n",
    "\n",
    "6. In standard expression syntax, parentheses and intervals have distinct meanings. How can you tell a regex that you want it to fit real parentheses and periods?\n",
    "Answer:\n",
    "    a = \"DS(DataScience)\"\n",
    "    m = re.search(\"\\(\", a)\n",
    "    m.group(), m.span()\n",
    "7. The findall() method returns a string list or a list of string tuples. What causes it to return one of the two options?\n",
    "\n",
    "Answer: a = \"DS(DataScience)(Python)\"\n",
    "        #m = re.search(\"\\(\", a)\n",
    "        #m.group(), m.span()\n",
    "        re.findall(\"\\(\", a)\n",
    "\n",
    "8. In standard expressions, what does the | character mean?\n",
    "\n",
    "Answer: | is known as pipe operator and iused to select one pattern from more than two given pattern\n",
    "\n",
    "9. In regular expressions, what does the? character stand for?\n",
    "\n",
    "Answer: it will accept the string in which part of the expression may or maynot be present.\n",
    "a = \"Feb 2021\"\n",
    "re.search(\"Feb(ruary)?\",a)\n",
    "\n",
    "\n",
    "10.regular expressions, what is the difference between the + and * characters? \n",
    "Answer: + and * in regular expression denotes repetition. + denotes repetition for atleast one time and *  represents repetition n times repetition including zero.\n",
    "\n",
    "11. What is the difference between {4} and {4,5} in regular expression?\n",
    "\n",
    "aNSWER: {4) the part of the expression has to repeat itself exactly 4times , {4,5} part of the expresiion will get repeated either 4 or  5times\n",
    "\n",
    "12. What do you mean by the \\d, \\w, and \\s shorthand character classes signify in regular expressions?\n",
    "\n",
    " Answer: \\d  Matches any decimal digit; equivalent to the set [0-9].\n",
    "\\D  The complement of \\d. It matches any non-digit character; equivalent to the set [^0-9].\n",
    "\\s  Matches any whitespace character; equivalent to [ \\t\\n\\r\\f\\v].\n",
    "\\S  The complement of \\s. It matches any non-whitespace character; equiv. to [^ \\t\\n\\r\\f\\v].\n",
    "\\w  Matches any alphanumeric character; equivalent to [a-zA-Z0-9_]. With LOCALE, it will match the set [a-zA-Z0-9_] plus characters defined as letters for the current locale.\n",
    "\\W  Matches the complement of \\w.\n",
    "\\b  Matches the empty string, but only at the start or end of a word.\n",
    "\\B  Matches the empty string, but not at the start or end of a word.\n",
    "\\\\  Matches a literal backslash.\n",
    "\n",
    "\n",
    "13. What do means by \\D, \\W, and \\S shorthand character classes signify in regular expressions?\n",
    "\n",
    "\n",
    "Answer:\n",
    "\\d  Matches any decimal digit; equivalent to the set [0-9].\n",
    "\\D  The complement of \\d. It matches any non-digit character; equivalent to the set [^0-9].\n",
    "\\s  Matches any whitespace character; equivalent to [ \\t\\n\\r\\f\\v].\n",
    "\\S  The complement of \\s. It matches any non-whitespace character; equiv. to [^ \\t\\n\\r\\f\\v].\n",
    "\\w  Matches any alphanumeric character; equivalent to [a-zA-Z0-9_]. With LOCALE, it will match the set [a-zA-Z0-9_] plus characters defined as letters for the current locale.\n",
    "\\W  Matches the complement of \\w.\n",
    "\\b  Matches the empty string, but only at the start or end of a word.\n",
    "\\B  Matches the empty string, but not at the start or end of a word.\n",
    "\\\\  Matches a literal backslash.\n",
    "\n",
    "\n",
    "14. What is the difference between .*? and .*?\n",
    "\n",
    "\n",
    "\n",
    "15. What is the syntax for matching both numbers and lowercase letters with a character class?\n",
    "\n",
    "Answer: [a-z0-9]\n",
    "\n",
    "16. What is the procedure for making a normal expression in regax case insensitive?\n",
    "\n",
    "Answer:import re\n",
    "re.search(\"bush\",\"BusH\",re.IGNORECASE)\n",
    "\n",
    "17. What does the . character normally match? What does it match if re.DOTALL is passed as 2nd argument in re.compile()?\n",
    "\n",
    "\n",
    "Answer: . is a wildcard in regular expression and matches everything except line , passing re.DOTALL as 2nd argument in re.compile() it will match newline as well.\n",
    "\n",
    "\n"
   ]
  },
  {
   "cell_type": "raw",
   "metadata": {},
   "source": [
    "18. If numReg = re.compile(r'\\d+'), what will numRegex.sub('X', '11 drummers, 10 pipers, five rings, 4 hen') return?\n"
   ]
  },
  {
   "cell_type": "code",
   "execution_count": 24,
   "metadata": {},
   "outputs": [
    {
     "data": {
      "text/plain": [
       "'X drummers, X pipers, five rings, X hen'"
      ]
     },
     "execution_count": 24,
     "metadata": {},
     "output_type": "execute_result"
    }
   ],
   "source": [
    "numReg = re.compile(r'\\d+')\n",
    "numReg.sub('X', '11 drummers, 10 pipers, five rings, 4 hen')"
   ]
  },
  {
   "cell_type": "raw",
   "metadata": {},
   "source": [
    "19. What does passing re.VERBOSE as the 2nd argument to re.compile() allow to do\n"
   ]
  },
  {
   "cell_type": "raw",
   "metadata": {},
   "source": [
    "Answer: To ignore whitespaces unless aND UNTIL it is used in charatcer class or \\s is used also used to provide comments"
   ]
  },
  {
   "cell_type": "raw",
   "metadata": {},
   "source": [
    "20. How would you write a regex that matche a number with comma for every three digits? It must match the given following:\n",
    "\n",
    "'42'\n",
    "'1,234'\n",
    "'6,368,745'\n",
    "but not the following:\n",
    "\n",
    "'12,34,567' (which has only two digits between the commas)\n",
    "'1234' (which lacks commas)\n"
   ]
  },
  {
   "cell_type": "code",
   "execution_count": 15,
   "metadata": {},
   "outputs": [
    {
     "name": "stdout",
     "output_type": "stream",
     "text": [
      "<re.Match object; span=(0, 2), match='42'>\n",
      "<re.Match object; span=(0, 5), match='1,234'>\n",
      "<re.Match object; span=(0, 9), match='6,368,745'>\n",
      "None\n",
      "None\n"
     ]
    }
   ],
   "source": [
    "import re\n",
    "l = ['42','1,234','6,368,745','12,34,567','1234']\n",
    "for i in l:\n",
    "    print(re.search(\"^[0-9]{1,2}(,[0-9]{3})*$\",i))\n",
    "   "
   ]
  },
  {
   "cell_type": "raw",
   "metadata": {},
   "source": [
    "21. How would you write a regex that matches the full name of someone whose last name is Watanabe? You can assume that the first name that comes before it will always be one word that begins with a capital letter. The regex must match the following:\n",
    "\n",
    "'Haruto Watanabe'\n",
    "'Alice Watanabe'\n",
    "'RoboCop Watanabe'\n",
    "but not the following:\n",
    "\n",
    "'haruto Watanabe' (where the first name is not capitalized)\n",
    "'Mr. Watanabe' (where the preceding word has a nonletter character)\n",
    "'Watanabe' (which has no first name)\n",
    "'Haruto watanabe' (where Watanabe is not capitalized)\n",
    "\n"
   ]
  },
  {
   "cell_type": "code",
   "execution_count": 18,
   "metadata": {},
   "outputs": [
    {
     "name": "stdout",
     "output_type": "stream",
     "text": [
      "<re.Match object; span=(0, 15), match='Haruto Watanabe'>\n",
      "<re.Match object; span=(0, 14), match='Alice Watanabe'>\n",
      "<re.Match object; span=(0, 16), match='RoboCop Watanabe'>\n",
      "None\n",
      "None\n",
      "None\n",
      "None\n"
     ]
    }
   ],
   "source": [
    "l = ['Haruto Watanabe','Alice Watanabe','RoboCop Watanabe','haruto Watanabe','Mr. Watanabe','Watanabe','Haruto watanabe']\n",
    "for i in l:\n",
    "    print(re.search(\"^[A-Z][A-Za-z]* Watanabe$\",i))"
   ]
  },
  {
   "cell_type": "raw",
   "metadata": {},
   "source": [
    "22. How would you write a regex that matches a sentence where the first word is either Alice, Bob, or Carol; the second word is either eats, pets, or throws; the third word is apples, cats, or baseballs; and the sentence ends with a period? This regex should be case-insensitive. It must match the following:\n",
    "\n",
    "'Alice eats apples.'\n",
    "'Bob pets cats.'\n",
    "'Carol throws baseballs.'\n",
    "'Alice throws Apples.'\n",
    "'BOB EATS CATS.'\n",
    "but not the following:\n",
    "\n",
    "'RoboCop eats apples.'\n",
    "'ALICE THROWS FOOTBALLS.'\n",
    "'Carol eats 7 cats.'"
   ]
  },
  {
   "cell_type": "code",
   "execution_count": 22,
   "metadata": {},
   "outputs": [
    {
     "data": {
      "text/plain": [
       "[('Alice', 'eats', 'apples'),\n",
       " ('Bob', 'pets', 'cats'),\n",
       " ('Carol', 'throws', 'baseballs'),\n",
       " ('Alice', 'throws', 'Apples'),\n",
       " ('BOB', 'EATS', 'CATS')]"
      ]
     },
     "execution_count": 22,
     "metadata": {},
     "output_type": "execute_result"
    }
   ],
   "source": [
    "a = \"\"\"\n",
    "'Alice eats apples.'\n",
    "'Bob pets cats.'\n",
    "'Carol throws baseballs.'\n",
    "'Alice throws Apples.'\n",
    "'BOB EATS CATS.'\n",
    "'RoboCop eats apples.'\n",
    "'ALICE THROWS FOOTBALLS.'\n",
    "'Carol eats 7 cats.'\n",
    "\n",
    "\"\"\"\n",
    "pattern = re.compile(\"\"\"\n",
    "(Alice|Bob|Carol)\n",
    "\\s\n",
    "(eats|pets|throws)\n",
    "\\s\n",
    "(apples|cats|baseballs)\n",
    "\\.\n",
    "\"\"\",re.VERBOSE|re.IGNORECASE)\n",
    "\n",
    "pattern.findall(a)"
   ]
  },
  {
   "cell_type": "code",
   "execution_count": null,
   "metadata": {},
   "outputs": [],
   "source": []
  }
 ],
 "metadata": {
  "kernelspec": {
   "display_name": "Python 3",
   "language": "python",
   "name": "python3"
  },
  "language_info": {
   "codemirror_mode": {
    "name": "ipython",
    "version": 3
   },
   "file_extension": ".py",
   "mimetype": "text/x-python",
   "name": "python",
   "nbconvert_exporter": "python",
   "pygments_lexer": "ipython3",
   "version": "3.8.5"
  }
 },
 "nbformat": 4,
 "nbformat_minor": 4
}
