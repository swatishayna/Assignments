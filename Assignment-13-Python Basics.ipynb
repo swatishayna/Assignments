{
 "cells": [
  {
   "cell_type": "raw",
   "id": "1b159298",
   "metadata": {},
   "source": [
    "1. What advantages do Excel spreadsheets have over CSV spreadsheets?\n",
    "Answer: CSV files are faster and also consumes less memory whereas Excel consumes more memory while importing data. CSV files can be opened with any text editor in windows while Excel files can't be opened with text editors. CSV files are faster and also consumes less memory whereas Excel consumes more memory while importing data. CSV files can be opened with any text editor in windows while Excel files can't be opened with text editors\n",
    "\n",
    "\n"
   ]
  },
  {
   "cell_type": "raw",
   "id": "4099514e",
   "metadata": {},
   "source": [
    "2.What do you pass to csv.reader() and csv.writer() to create reader and writer objects?\n",
    "Answer. filename and delimiter \n",
    "\n"
   ]
  },
  {
   "cell_type": "raw",
   "id": "6898d1da",
   "metadata": {},
   "source": [
    "3. What modes do File objects for reader and writer objects need to be opened in?\n",
    "Answer: in read mode, \"r\" if it is for reader object and write \"w\" mode for writer object\n"
   ]
  },
  {
   "cell_type": "raw",
   "id": "5ddc7aed",
   "metadata": {},
   "source": [
    "4. What method takes a list argument and writes it to a CSV file?\n",
    "Answer: writerow()\n",
    "This function writes items in an iterable (list, tuple or string) ,separating them nby comma character.\n",
    "\n",
    "writerows()\n",
    "This function takes a list of iterables as parameter and writes each item as a comma separated line of items in the file.\n"
   ]
  },
  {
   "cell_type": "raw",
   "id": "6c8c95b1",
   "metadata": {},
   "source": [
    "5. What do the keyword arguments delimiter and line terminator do?\n",
    "Asnwer:The line terminator is the character that comes at the end of a row. By default, the line terminator is a newline. \n",
    "    whereas delimeter is a separator between any two columns of csv file\n"
   ]
  },
  {
   "cell_type": "raw",
   "id": "31555959",
   "metadata": {},
   "source": [
    "6. What function takes a string of JSON data and returns a Python data structure?\n",
    "Answer: loads() method return Python data structure of JSON string or data./ The decode() function is used to convert the JSON object into python format \n",
    "7. What function takes a Python data structure and returns a string of JSON data?\n",
    "Ansswer: Python uses dump() function to convert the Python objects into their respective JSON object,"
   ]
  }
 ],
 "metadata": {
  "kernelspec": {
   "display_name": "Python 3",
   "language": "python",
   "name": "python3"
  },
  "language_info": {
   "codemirror_mode": {
    "name": "ipython",
    "version": 3
   },
   "file_extension": ".py",
   "mimetype": "text/x-python",
   "name": "python",
   "nbconvert_exporter": "python",
   "pygments_lexer": "ipython3",
   "version": "3.8.8"
  }
 },
 "nbformat": 4,
 "nbformat_minor": 5
}
