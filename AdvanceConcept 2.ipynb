{
 "cells": [
  {
   "cell_type": "markdown",
   "id": "a55cedcf",
   "metadata": {},
   "source": [
    "Q1. What is the relationship between classes and modules?\n",
    "\n",
    "Answer: Modules contain python classes, functions,constants, etc. when need they can be imported.\n",
    "\n",
    "\n",
    "Q2. How do you make instances and classes?\n",
    "\n",
    "Answer: step 1 : create a class\n",
    "class Animal:\n",
    "    pass\n",
    "Tiger= Animal()    \n",
    "\n",
    "Q3. Where and how should be class attributes created?\n",
    "\n",
    "Answer: Class attributes should be created just after the class name . Ideally it should be created before declaring __init__()\n",
    "class Animal:\n",
    "    vocal = \"Cant talk like humans\"\n",
    "    \n",
    "\n",
    "Q4. Where and how are instance attributes created?\n",
    "\n",
    "Answer:Instance attributes should be created inside __init__()\n",
    "\n",
    "\n",
    "Q5. What does the term \"self\" in a Python class mean?\n",
    "\n",
    "Answer: It points to the current object and combines the arguments with the attributes of the class, it is an instance of the class. Through it we can access the attributes of the class- self(commonly used) . We can also use any other word.\n",
    "\n",
    "Q6. How does a Python class handle operator overloading?\n",
    "\n",
    "Answer: It defines functionality at class level. The object of a particular class as per the defition of the operator defined in that class \n",
    "\n",
    "Q7. When do you consider allowing operator overloading of your classes?\n",
    "\n",
    "Answer:By overloading standard operators on a class, you can exploit the intuition of the users of that class. This lets users program in the language of the problem domain rather than in the language of the machine.\n",
    "\n",
    "Q8. What is the most popular form of operator overloading?\n",
    "\n",
    "answer: \"+\" -- addition on integer class , concatenation on string class, append on list class\n",
    " \n",
    "Q9. What are the two most important concepts to grasp in order to comprehend Python OOP code?\n",
    "\n",
    "Answer: Object and classes\n",
    "--Inheritance and data abstraction"
   ]
  }
 ],
 "metadata": {
  "kernelspec": {
   "display_name": "Python 3",
   "language": "python",
   "name": "python3"
  },
  "language_info": {
   "codemirror_mode": {
    "name": "ipython",
    "version": 3
   },
   "file_extension": ".py",
   "mimetype": "text/x-python",
   "name": "python",
   "nbconvert_exporter": "python",
   "pygments_lexer": "ipython3",
   "version": "3.8.8"
  }
 },
 "nbformat": 4,
 "nbformat_minor": 5
}
