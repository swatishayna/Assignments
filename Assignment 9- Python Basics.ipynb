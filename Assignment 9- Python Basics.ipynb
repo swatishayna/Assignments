{
 "cells": [
  {
   "cell_type": "raw",
   "metadata": {},
   "source": [
    "1. To what does a relative path refer?\n",
    "answer:relative path refers to a location relative to current working directory, it uses absolute path to get deeper into a new directory\n",
    "\n",
    "2. What is the first step on an absolute path?\n",
    "Answer: It should begin with drive name followed by \":\"\n",
    "\n",
    "3. On Windows, what does Path('C:/Users') / 'Al' evaluate to?\n",
    "Answer: 'C:/Users' can be treated as Absolute path and assuming AI as directory inside 'C:/Users' , can be treated as relative path\n",
    "\n",
    "4. On Windows, what does 'C:/Users' / 'Al' evaluate to?\n",
    "Answer: 'C:/Users' can be treated as Absolute path and assuming AI as directory inside 'C:/Users' , can be treated as relative path\n",
    "\n",
    "5. What do the functions os.getcwd() and os.chdir() do?\n",
    "Answer: os.getcwd() will return the present directory in which you are working and os.chdir() will change the directory\n",
    "\n",
    "6. What is the difference between the. and.. folders?\n",
    "Amswer:Double dots are used for moving up in the hierarchy. A single dot represents the current directory itself.\n",
    "\n",
    "7. Which part of C:baconeggsspam.txt is the dir name and which part is the base name?\n",
    "answer: C: is the directory name and baconeggsspam.txt is base\n",
    "\n",
    "8. What are the three “mode” arguments that the open() function accepts?\n",
    "Answer: open() function accepts 3 modes: \"w\" write , \"a\" append and \"r\"  read mode\n",
    "        \n",
    "9. What happens if you open existing file in write mode?\n",
    "Answer: It will erase everything and treat file as a new file for writing. It is also used to create new file\n",
    "\n",
    "10. How do you tell the difference between read() and readlines()?\n",
    "Answer:The . read() would treat each character in the file separately, meaning that the iteration would happen for every character. The readline() function, on the other hand, only reads a single line of the file.\n",
    "\n",
    "11. How does a shelf value resemble a data structure?\n",
    "Answer: Shelf item is a combination key and value and hence can be treated as dictionary\n"
   ]
  },
  {
   "cell_type": "code",
   "execution_count": null,
   "metadata": {},
   "outputs": [],
   "source": []
  }
 ],
 "metadata": {
  "kernelspec": {
   "display_name": "Python 3",
   "language": "python",
   "name": "python3"
  },
  "language_info": {
   "codemirror_mode": {
    "name": "ipython",
    "version": 3
   },
   "file_extension": ".py",
   "mimetype": "text/x-python",
   "name": "python",
   "nbconvert_exporter": "python",
   "pygments_lexer": "ipython3",
   "version": "3.8.5"
  }
 },
 "nbformat": 4,
 "nbformat_minor": 4
}
