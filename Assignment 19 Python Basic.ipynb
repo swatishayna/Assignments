{
 "cells": [
  {
   "cell_type": "code",
   "execution_count": 1,
   "id": "eb6004e5",
   "metadata": {},
   "outputs": [
    {
     "name": "stdout",
     "output_type": "stream",
     "text": [
      "<class '__main__.Thing'>\n",
      "<__main__.Thing object at 0x000002A33237F250>\n"
     ]
    }
   ],
   "source": [
    "#1. Make a class called Thing with no contents and print it. Then, create an object called example from this class and also \n",
    "# print it. Are the printed values the same or different?\n",
    "\n",
    "class Thing:\n",
    "    pass\n",
    "example = Thing()\n",
    "print(Thing)\n",
    "print(example)"
   ]
  },
  {
   "cell_type": "code",
   "execution_count": 2,
   "id": "f5da136d",
   "metadata": {},
   "outputs": [
    {
     "name": "stdout",
     "output_type": "stream",
     "text": [
      "abc\n"
     ]
    }
   ],
   "source": [
    "#2. Create a new class called Thing2 and add the value 'abc' to the letters class attribute. Letters should be printed.\n",
    "class Thing2:\n",
    "    letters = 'abc'\n",
    "    print(letters)\n",
    "example = Thing()\n"
   ]
  },
  {
   "cell_type": "code",
   "execution_count": 3,
   "id": "10126a5a",
   "metadata": {},
   "outputs": [],
   "source": [
    "#3. Make yet another class called, of course, Thing3. This time, assign the value 'xyz' to \n",
    "# an instance (object) attribute called letters. Print letters. Do you need to make an object from the class to do this?\n",
    "class Thing3:\n",
    "    def __init__(self):\n",
    "        self.letters = 'xyz'\n",
    "        print(letters)"
   ]
  },
  {
   "cell_type": "code",
   "execution_count": 4,
   "id": "e5b5d928",
   "metadata": {},
   "outputs": [],
   "source": [
    "# 4. Create an Element class with the instance attributes name, symbol, and number. Create a class object \n",
    "# with the values 'Hydrogen,' 'H,' and 1.\n",
    "class Element:\n",
    "    def __init__(self,name,symbol,number):\n",
    "        self.name = name\n",
    "        self.symbol = symbol\n",
    "        self.number = number\n",
    "obj = Element('Hydrogen', 'H', '1')\n",
    "    "
   ]
  },
  {
   "cell_type": "code",
   "execution_count": 5,
   "id": "e4117127",
   "metadata": {},
   "outputs": [],
   "source": [
    "# 5. Make a dictionary with these keys and values: 'name': 'Hydrogen', 'symbol': 'H', 'number': 1. \n",
    "# Then, create an object called hydrogen from class Element using this dictionary.\n",
    "d = {'name': 'Hydrogen', 'symbol': 'H', 'number': 1}\n",
    "hydrogen = Element(d['name'], d['symbol'], d['number'])"
   ]
  },
  {
   "cell_type": "code",
   "execution_count": 6,
   "id": "185f01d0",
   "metadata": {},
   "outputs": [
    {
     "data": {
      "text/plain": [
       "('Hydrogen', 'H', 1)"
      ]
     },
     "execution_count": 6,
     "metadata": {},
     "output_type": "execute_result"
    }
   ],
   "source": [
    "# 6. For the Element class, define a method called dump() that prints the values of the object’s \n",
    "# attributes (name, symbol, and number). Create the hydrogen object from this new definition and use dump() \n",
    "# to print its attributes.\n",
    "class Element:\n",
    "    def __init__(self,name,symbol,number):\n",
    "        self.name = name\n",
    "        self.symbol = symbol\n",
    "        self.number = number\n",
    "    def dump(self):\n",
    "        return self.name,self.symbol,self.number\n",
    "    \n",
    "hydrogen = Element(d['name'], d['symbol'], d['number'])\n",
    "hydrogen.dump()"
   ]
  },
  {
   "cell_type": "code",
   "execution_count": 7,
   "id": "e8f55d8b",
   "metadata": {},
   "outputs": [
    {
     "name": "stdout",
     "output_type": "stream",
     "text": [
      "<__main__.Element object at 0x000002A3323B6FA0>\n",
      "Hydrogen H 1\n"
     ]
    }
   ],
   "source": [
    "# 7. Call print(hydrogen). In the definition of Element, change the name of method dump to __str__, \n",
    "# create a new hydrogen object, and call print(hydrogen) again.\n",
    "print(hydrogen)\n",
    "class Element:\n",
    "    def __init__(self,name,symbol,number):\n",
    "        self.name = name\n",
    "        self.symbol = symbol\n",
    "        self.number = number\n",
    "    def __str__(self):\n",
    "        return \"{} {} {}\".format(self.name,self.symbol,self.number)\n",
    "hydrogen = Element(d['name'], d['symbol'], d['number'])\n",
    "print(hydrogen)"
   ]
  },
  {
   "cell_type": "code",
   "execution_count": 8,
   "id": "498d929f",
   "metadata": {},
   "outputs": [],
   "source": [
    "# 8. Modify Element to make the attributes name, symbol, and number private. \n",
    "# Define a getter property for each to return its value.\n",
    "class Element:\n",
    "    def __init__(self,name,symbol,number):\n",
    "        self.__name = name\n",
    "        self.__symbol = symbol\n",
    "        self.__number = number\n",
    "    def __str__(self):\n",
    "        return \"{} {} {}\".format(self.name,self.symbol,self.number)\n",
    "hydrogen = Element(d['name'], d['symbol'], d['number'])\n"
   ]
  },
  {
   "cell_type": "code",
   "execution_count": 9,
   "id": "3b002d49",
   "metadata": {},
   "outputs": [
    {
     "data": {
      "text/plain": [
       "'Hydrogen'"
      ]
     },
     "execution_count": 9,
     "metadata": {},
     "output_type": "execute_result"
    }
   ],
   "source": [
    "#hydrogen.__name\n",
    "hydrogen._Element__name"
   ]
  },
  {
   "cell_type": "code",
   "execution_count": 10,
   "id": "339d9aa9",
   "metadata": {},
   "outputs": [
    {
     "name": "stdout",
     "output_type": "stream",
     "text": [
      "berries\n",
      "clover\n",
      "campers\n",
      "None None None\n"
     ]
    }
   ],
   "source": [
    "# 9. Define three classes: Bear, Rabbit, and Octothorpe. For each, define only one method: eats(). \n",
    "# This should return 'berries' (Bear), 'clover' (Rabbit), or 'campers' (Octothorpe). Create one object from each and \n",
    "# print what it eats.\n",
    "class Bear:\n",
    "    def eats(self):\n",
    "        print(\"berries\")\n",
    "class Rabbit:\n",
    "     def eats(self):\n",
    "        print(\"clover\")\n",
    "class Octothorpe:\n",
    "     def eats(self):\n",
    "        print(\"campers\")\n",
    "a = Bear()\n",
    "b = Rabbit()\n",
    "c = Octothorpe()\n",
    "print(a.eats(),b.eats(),c.eats())"
   ]
  },
  {
   "cell_type": "code",
   "execution_count": 11,
   "id": "49873b45",
   "metadata": {},
   "outputs": [],
   "source": [
    "# 10. Define these classes: Laser, Claw, and SmartPhone. Each has only one method: does(). This returns 'disintegrate' (Laser),\n",
    "# 'crush' (Claw), or 'ring' (SmartPhone). Then, define the class Robot that has one instance (object) of each of these. \n",
    "#        Define a does() method for the Robot that prints what its component objects do."
   ]
  },
  {
   "cell_type": "code",
   "execution_count": 12,
   "id": "c26b3d7f",
   "metadata": {},
   "outputs": [
    {
     "name": "stdout",
     "output_type": "stream",
     "text": [
      "disintegrate\n",
      "crush\n",
      "ring\n"
     ]
    },
    {
     "data": {
      "text/plain": [
       "'None None None'"
      ]
     },
     "execution_count": 12,
     "metadata": {},
     "output_type": "execute_result"
    }
   ],
   "source": [
    "class Laser:\n",
    "    def does(self):\n",
    "        print('disintegrate')\n",
    "class Claw:\n",
    "    def does(self):\n",
    "        print('crush')\n",
    "class SmartPhone:\n",
    "    def does(self):\n",
    "        print('ring')\n",
    "class Robot:\n",
    "    def __init__(self):\n",
    "        self.a = Laser()\n",
    "        self.b = Claw()\n",
    "        self.c = SmartPhone()\n",
    "    def does(self):\n",
    "        return \"{} {} {}\".format(self.a.does(),self.b.does(),self.c.does())\n",
    "a = Robot()\n",
    "a.does()"
   ]
  },
  {
   "cell_type": "code",
   "execution_count": null,
   "id": "b26cbdfd",
   "metadata": {},
   "outputs": [],
   "source": []
  }
 ],
 "metadata": {
  "kernelspec": {
   "display_name": "Python 3",
   "language": "python",
   "name": "python3"
  },
  "language_info": {
   "codemirror_mode": {
    "name": "ipython",
    "version": 3
   },
   "file_extension": ".py",
   "mimetype": "text/x-python",
   "name": "python",
   "nbconvert_exporter": "python",
   "pygments_lexer": "ipython3",
   "version": "3.8.8"
  }
 },
 "nbformat": 4,
 "nbformat_minor": 5
}
