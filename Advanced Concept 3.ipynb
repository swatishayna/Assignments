{
 "cells": [
  {
   "cell_type": "markdown",
   "id": "e35143a8",
   "metadata": {},
   "source": [
    "1. What is the concept of an abstract superclass?\n",
    "\n",
    "Answer: A common superclass for several subclasses. Abstract classes are those classes which has one or more abstract method and doesnt contain the implementation of the function\n",
    "Abstract class can be inherited by child classes and the implemetaion of the abstract method is defined in the child class\n",
    "Abstract method is declared but contains no implementation\n",
    "\n",
    "\n",
    "2. What happens when a class statement's top level contains a basic assignment statement?\n",
    "\n",
    "Answer: They become class variables which are created at class level and can be modified using class reference (permanently), or via object (temporarly) for that specific object only. \n",
    "\n",
    "3. Why does a class need to manually call a superclass's __init__ method?\n",
    "\n",
    "Answer: The instance variable or the class variable mentioned inside __init__() doesnt get exceuted if we dont call superclass's __init__() in child class.\n",
    "\n",
    "4. How can you augment, instead of completely replacing, an inherited method?\n",
    "\n",
    "Answer: We can redefine the same function and then call the superclass version of the method manually from the new version of the method in the child class.\n",
    "\n",
    "5. How is the local scope of a class different from that of a function?\n",
    "\n",
    "Answer: The scope of the function is limited to that specifice function only, wherever it gets called howsoever class scope is limited to the object of that class.\n"
   ]
  },
  {
   "cell_type": "code",
   "execution_count": null,
   "id": "e3cb3f99",
   "metadata": {},
   "outputs": [],
   "source": []
  }
 ],
 "metadata": {
  "kernelspec": {
   "display_name": "Python 3",
   "language": "python",
   "name": "python3"
  },
  "language_info": {
   "codemirror_mode": {
    "name": "ipython",
    "version": 3
   },
   "file_extension": ".py",
   "mimetype": "text/x-python",
   "name": "python",
   "nbconvert_exporter": "python",
   "pygments_lexer": "ipython3",
   "version": "3.8.8"
  }
 },
 "nbformat": 4,
 "nbformat_minor": 5
}
