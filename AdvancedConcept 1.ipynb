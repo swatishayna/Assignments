{
 "cells": [
  {
   "cell_type": "markdown",
   "id": "16de4141",
   "metadata": {},
   "source": [
    "Q1. What is the purpose of Python's OOP?\n",
    "\n",
    "Answer: Reusability(Inheritance), hiding the implementation and attributes (Abstraction), using the same function for different purpose as per the object of the class(polymorphism) , reduces the complexity(Abstraction),etc\n",
    "\n",
    "Q2. Where does an inheritance search look for an attribute?\n",
    "\n",
    "Answer: There is an order to follow- \n",
    "-----> if __init__() is present in child class and the object is of child class ,it will first look in the child class \n",
    "-----> if __init__() is absent in child class but present in parent class ,it will check in parent class\n",
    "-----> if __init__() is absent in both the class then first it will check the attribute in child class if it is not present in child class it wil go in parent class and check there\n",
    "Considering attributes  with same name.\n",
    "\n",
    "Q3. How do you distinguish between a class object and an instance object?\n",
    "\n",
    "\n",
    "\n",
    "Q4. What makes the first argument in a class’s method function special?\n",
    "\n",
    "Answer: It points to the current object and combines the arguments with the attributes of the class, it is an instance of the class. Through it we can access the attributes of the class- self(commonly used) . We can also use any other word.\n",
    "\n",
    "Q5. What is the purpose of the __init__ method?\n",
    "\n",
    "Answer: This dunder method is a special method which acts as a constructor which is used to initialise the object's state. I t initialises the values to the data members/attributes of the class as soon as the object of the class is created.\n",
    "\n",
    "Q6. What is the process for creating a class instance?\n",
    "\n",
    "Answer: To create instances of a class, you call the class using class name and pass in whatever arguments its __init__ method accepts and __init__() initialises the values to the data members/attributes of the class \n",
    "\n",
    "Q7. What is the process for creating a class?\n",
    "Answer:\n",
    "class comprises of class variables , class methods, instance methods ,instance variables , static methods, __init__(), etc\n",
    "All these items are optional , class keyword is impoortant.\n",
    "\n",
    "\n",
    "Q8. How would you define the superclasses of a class?\n",
    "\n",
    "Answer: all the attributes, methods can be inherited from superclass to the child class thus making the program/child class look less complex and reusability can be achieved.\n"
   ]
  }
 ],
 "metadata": {
  "kernelspec": {
   "display_name": "Python 3",
   "language": "python",
   "name": "python3"
  },
  "language_info": {
   "codemirror_mode": {
    "name": "ipython",
    "version": 3
   },
   "file_extension": ".py",
   "mimetype": "text/x-python",
   "name": "python",
   "nbconvert_exporter": "python",
   "pygments_lexer": "ipython3",
   "version": "3.8.8"
  }
 },
 "nbformat": 4,
 "nbformat_minor": 5
}
