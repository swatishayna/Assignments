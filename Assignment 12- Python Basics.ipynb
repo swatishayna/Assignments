{
 "cells": [
  {
   "cell_type": "raw",
   "id": "8f91bcf0",
   "metadata": {},
   "source": [
    "1. In what modes should the PdfFileReader() and PdfFileWriter() File objects will be opened?\n",
    "PdfFileReader() ---- readbinary mode-'rb'\n",
    "PdfFileWriter() ---- writebinary mode-'wb'"
   ]
  },
  {
   "cell_type": "code",
   "execution_count": 8,
   "id": "c346e696",
   "metadata": {},
   "outputs": [
    {
     "name": "stdout",
     "output_type": "stream",
     "text": [
      "Requirement already satisfied: PyPDF2 in d:\\apps\\anaconda\\lib\\site-packages (1.26.0)\n"
     ]
    }
   ],
   "source": [
    "!pip install PyPDF2\n",
    "import PyPDF2\n",
    "\n",
    "f = PyPDF2.PdfFileReader(\"D:\\\\data science\\\\ineuron\\\\ML\\\\Hands-on-Machine-Learning-with-Scikit-2E.pdf\")\n"
   ]
  },
  {
   "cell_type": "raw",
   "id": "ea0b4630",
   "metadata": {},
   "source": [
    "2. From a PdfFileReader object, how do you get a Page object for page 5?\n"
   ]
  },
  {
   "cell_type": "code",
   "execution_count": 10,
   "id": "947accee",
   "metadata": {},
   "outputs": [
    {
     "data": {
      "text/plain": [
       "'Frame the Problem                                                                                                    39\\nSelect a Performance Measure                                                                                  42\\nCheck the Assumptions                                                                                             45\\nGet the Data                                                                                                                    45\\nCreate the Workspace                                                                                                45\\nDownload the Data                                                                                                    49\\nTake a Quick Look at the Data Structure                                                                50\\nCreate a Test Set                                                                                                          54\\nDiscover and Visualize the Data to Gain Insights                                                     58\\nVisualizing Geographical Data                                                                                 59\\nLooking for Correlations                                                                                           62\\nExperimenting with Attribute Combinations                                                        65\\nPrepare the Data for Machine Learning Algorithms                                                66\\nData Cleaning                                                                                                             67\\nHandling Text and Categorical Attributes                                                              69\\nCustom Transformers                                                                                                71\\nFeature Scaling                                                                                                            72\\nTransformation Pipelines                                                                                          73\\nSelect and Train a Model                                                                                               75\\nTraining and Evaluating on the Training Set                                                         75\\nBetter Evaluation Using Cross-Validation                                                              76\\nFine-Tune Your Model                                                                                                  79\\nGrid Search                                                                                                                 79\\nRandomized Search                                                                                                   81\\nEnsemble Methods                                                                                                     82\\nAnalyze the Best Models and Their Errors                                                             82\\nEvaluate Your System on the Test Set                                                                      83\\nLaunch, Monitor, and Maintain Your System                                                            84\\nTry It Out!                                                                                                                       85\\nExercises                                                                                                                          85\\n3.Classi•cation. . . . . . . . . . . . . . . . . . . . . . . . . . . . . . . . . . . . . . . . . . . . . . . . . . . . . . . . . . . . .  87\\nMNIST                                                                                                                             87\\nTraining a Binary Classifier                                                                                          90\\nPerformance Measures                                                                                                  90\\nMeasuring Accuracy Using Cross-Validation                                                        91\\nConfusion Matrix                                                                                                       92\\nPrecision and Recall                                                                                                   94\\nPrecision/Recall Tradeoff                                                                                          95\\nThe ROC Curve                                                                                                          99\\nMulticlass Classification                                                                                             102\\nError Analysis                                                                                                              104\\niv | Table of Contents\\n'"
      ]
     },
     "execution_count": 10,
     "metadata": {},
     "output_type": "execute_result"
    }
   ],
   "source": [
    "f.getPage(5).extractText()"
   ]
  },
  {
   "cell_type": "raw",
   "id": "536a3ac6",
   "metadata": {},
   "source": [
    "3. What PdfFileReader variable stores the number of pages in the PDF document?\n",
    "\n",
    "The total number of pages in the document is stored in the numPages attribute of a PdfFileReader objec"
   ]
  },
  {
   "cell_type": "code",
   "execution_count": 13,
   "id": "c4572c4e",
   "metadata": {},
   "outputs": [
    {
     "data": {
      "text/plain": [
       "510"
      ]
     },
     "execution_count": 13,
     "metadata": {},
     "output_type": "execute_result"
    }
   ],
   "source": [
    "import PyPDF2\n",
    "\n",
    "f = PyPDF2.PdfFileReader(\"D:\\\\data science\\\\ineuron\\\\ML\\\\Hands-on-Machine-Learning-with-Scikit-2E.pdf\")\n",
    "\n",
    "f.numPages"
   ]
  },
  {
   "cell_type": "raw",
   "id": "66adc95a",
   "metadata": {},
   "source": [
    "4. If a PdfFileReader object’s PDF is encrypted with the password swordfish, what must you do before you can obtain Page objects from it?\n"
   ]
  },
  {
   "cell_type": "code",
   "execution_count": 15,
   "id": "733e2eb1",
   "metadata": {},
   "outputs": [],
   "source": [
    "#f.decrypt(\"password\")"
   ]
  },
  {
   "cell_type": "raw",
   "id": "ce481540",
   "metadata": {},
   "source": [
    "5. What methods do you use to rotate a page?\n"
   ]
  },
  {
   "cell_type": "code",
   "execution_count": 27,
   "id": "b14bdbc1",
   "metadata": {},
   "outputs": [
    {
     "name": "stdout",
     "output_type": "stream",
     "text": [
      "Enter the path here---->D:\\\\data science\\\\ineuron\\\\ML\\\\Hands-on-Machine-Learning-with-Scikit-2E.pdf\n",
      "Enter PageNumber to read--->2\n",
      "Enter the angle to rotate the page---->180\n"
     ]
    }
   ],
   "source": [
    "path = input(\"Enter the path here---->\")\n",
    "#create an object of PdfFileReader to read the pdf\n",
    "pdfReader = PyPDF2.PdfFileReader(path)\n",
    "\n",
    "#enter the page to read to the object of PdfFileReader using getPage()\n",
    "pageNumber = int(input(\"Enter PageNumber to read--->\"))\n",
    "page = pdfReader.getPage(pageNumber)\n",
    "\n",
    "#enter the angle to rotate the page\n",
    "angletorotate = int(input(\"Enter the angle to rotate the page---->\"))\n",
    "page.rotateClockwise(angletorotate)\n",
    "\n",
    "#create an object of PdfFileWriter to write in pdf file\n",
    "pdfWriter = PyPDF2.PdfFileWriter()\n",
    "\n",
    "#add the page to the object of PdfFileWriter to write in pdf file\n",
    "pdfWriter.addPage(page)\n",
    "\n",
    "#create a new pdf file\n",
    "newpdffile = open(\"newfile.pdf\",\"wb\")\n",
    "\n",
    "#write into pdf file\n",
    "pdfWriter.write(newpdffile)\n"
   ]
  },
  {
   "cell_type": "raw",
   "id": "736f64a5",
   "metadata": {},
   "source": [
    "6. What is the difference between a Run object and a Paragraph object?\n",
    "Answer: A Run object is a contiguous run of text with the same style. A new Run object is needed whenever the text style changes.It is part of paragraph object.The Document object contains a list of Paragraph objects for the paragraphs in the document. (A new paragraph begins whenever the user presses ENTER or RETURN while typing in a Word document.) Each of these Paragraph objects contains a list of one or more Run objects"
   ]
  },
  {
   "cell_type": "raw",
   "id": "3da10530",
   "metadata": {},
   "source": [
    "7. How do you obtain a list of Paragraph objects for a Document object that’s stored in a variable named doc?\n",
    "import docx\n",
    "doc = docx.document(\"anc.docx\")\n",
    "doc.paragraphs()"
   ]
  },
  {
   "cell_type": "raw",
   "id": "769fb074",
   "metadata": {},
   "source": [
    "8. What type of object has bold, underline, italic, strike, and outline variables?\n",
    "Answer: Run Object"
   ]
  },
  {
   "cell_type": "raw",
   "id": "8e729723",
   "metadata": {},
   "source": [
    "9. What is the difference between False, True, and None for the bold variable?\n",
    "Answer: Many font properties are tri-state, meaning they can take the values True, False, and None. True means the property is “on”, False means it is “off”. Conceptually, the None value means “inherit”. A run exists in the style inheritance hierarchy and by default inherits its character formatting from that hierarchy."
   ]
  },
  {
   "cell_type": "raw",
   "id": "c131857d",
   "metadata": {},
   "source": [
    "10. How do you create a Document object for a new Word document?\n",
    "from docx import Document\n",
    "document = Document()"
   ]
  },
  {
   "cell_type": "raw",
   "id": "78b12e71",
   "metadata": {},
   "source": [
    "11. How do you add a paragraph with the text 'Hello, there!' to a Document object stored in a variable named doc?\n",
    "doc.add_paragraph(\"'Hello, there!')"
   ]
  },
  {
   "cell_type": "raw",
   "id": "75bf45e9",
   "metadata": {},
   "source": [
    "12. What integers represent the levels of headings available in Word documents?\n",
    "answer: 1,2,3,4"
   ]
  }
 ],
 "metadata": {
  "kernelspec": {
   "display_name": "Python 3",
   "language": "python",
   "name": "python3"
  },
  "language_info": {
   "codemirror_mode": {
    "name": "ipython",
    "version": 3
   },
   "file_extension": ".py",
   "mimetype": "text/x-python",
   "name": "python",
   "nbconvert_exporter": "python",
   "pygments_lexer": "ipython3",
   "version": "3.8.8"
  }
 },
 "nbformat": 4,
 "nbformat_minor": 5
}
