{
 "cells": [
  {
   "cell_type": "raw",
   "id": "a6e1e7c4",
   "metadata": {},
   "source": [
    "Q1. Describe three applications for exception processing.\n",
    "\n",
    "Answer: In mathematics calculation -- for handling zero division error\n",
    "        In file amangement system---- for FileNotFoundException\n",
    "        Database connectivity- connection can fail because of many reasons like password error, username not given right, internet issue \n",
    "        \n",
    "\n",
    "\n",
    "Q2. What happens if you don't do something extra to treat an exception?\n",
    "\n",
    "Answer: The programm will get at hault and it will not give the end user smooth experience. The end user must that if something wrong has happened then what is that something specifically.\n",
    "\n",
    "Q3. What are your options for recovering from an exception in your script?\n",
    "\n",
    "Ans: We can use logging in the exception block , we can debug the program or we can do unit testing \n",
    "\n",
    "Q4. Describe two methods for triggering exceptions in your script.\n",
    "\n",
    "answer: Using raise keyword and using class concept- inheriting the exception class into a class which can be treated as base class for other  exceptions.  \n",
    "\n",
    "Q5. Identify two methods for specifying actions to be executed at termination time, regardless of whether or not an exception exists.\n",
    "Answer: Using finally: releasing the resources, terminating the connection, etc\n",
    "using predefined cleanup statementsEx. with open() should be preferred over loop statements for opening any file and performing task on it."
   ]
  },
  {
   "cell_type": "code",
   "execution_count": null,
   "id": "c59e3e2f",
   "metadata": {},
   "outputs": [],
   "source": []
  }
 ],
 "metadata": {
  "kernelspec": {
   "display_name": "Python 3",
   "language": "python",
   "name": "python3"
  },
  "language_info": {
   "codemirror_mode": {
    "name": "ipython",
    "version": 3
   },
   "file_extension": ".py",
   "mimetype": "text/x-python",
   "name": "python",
   "nbconvert_exporter": "python",
   "pygments_lexer": "ipython3",
   "version": "3.8.8"
  }
 },
 "nbformat": 4,
 "nbformat_minor": 5
}
