{
 "cells": [
  {
   "cell_type": "raw",
   "id": "740780b4",
   "metadata": {},
   "source": [
    "Q1. What is the meaning of multiple inheritance?\n",
    "\n",
    "When the child class inherits more than one parent classes \n",
    "\n",
    "Q2. What is the concept of delegation?\n",
    "\n",
    "\n",
    "\n",
    "Q3. What is the concept of composition?\n",
    "\n",
    "Composition is the way to use the method of any component class inside composite class. A class that references to one or more objects of other class as instance variable are called composite classes and the class from which the instances are craeted inside composite class is known as component class.like inheritance by creating the object of child class we can acces the members of parent class and we can also modify it but in composition  we can not modify it .It means composite class can contain an object of other class component, component members can be used as well but cant be modified.\n",
    "\n",
    "Q4. What are bound methods and how do we use them?\n",
    "\n",
    "Bound methods are those methods which are dependent on the instnaces of the object. A class method can also be treated as bound methods with the only difference that in classmethod the first argument is the class itself instead of instance \n",
    "\n",
    "\n",
    "Q5. What is the purpose of pseudoprivate attributes?\n",
    "attributes which cant be directly accessed by the instance of the class. Since the values can also be changed by the object of the class but in a different manner(object.__variablename) they are pseudoprivate . To provide may be little privacy to the class members we use this concept."
   ]
  },
  {
   "cell_type": "code",
   "execution_count": null,
   "id": "bfad8ed3",
   "metadata": {},
   "outputs": [],
   "source": []
  },
  {
   "cell_type": "code",
   "execution_count": null,
   "id": "50bbfd80",
   "metadata": {},
   "outputs": [],
   "source": []
  }
 ],
 "metadata": {
  "kernelspec": {
   "display_name": "Python 3",
   "language": "python",
   "name": "python3"
  },
  "language_info": {
   "codemirror_mode": {
    "name": "ipython",
    "version": 3
   },
   "file_extension": ".py",
   "mimetype": "text/x-python",
   "name": "python",
   "nbconvert_exporter": "python",
   "pygments_lexer": "ipython3",
   "version": "3.8.8"
  }
 },
 "nbformat": 4,
 "nbformat_minor": 5
}
