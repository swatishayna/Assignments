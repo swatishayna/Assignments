{
 "cells": [
  {
   "cell_type": "markdown",
   "metadata": {},
   "source": [
    "1. What exactly is []?\n",
    "Answer: List\n",
    "\n",
    "2. In a list of values stored in a variable called spam, how would you assign the value 'hello' as the third value? (Assume [2, 4, 6, 8, 10] are in spam.)\n",
    "Answer:    spam = [2, 4, 6, 8, 10]\n",
    "           spam.insert(3,\"hello)\n",
    "\n",
    "Let's pretend the spam includes the list ['a', 'b', 'c', 'd'] for the next three queries.\n",
    "\n",
    "3. What is the value of spam[int(int('3' * 2) / 11)]?\n",
    "Answer: \"d\"\n",
    "\n",
    "4. What is the value of spam[-1]?\n",
    "Answer: \"d\"\n",
    "\n",
    "5. What is the value of spam[:2]?\n",
    "Answer:['a', 'b']\n",
    "\n",
    "Let's pretend bacon has the list [3.14, 'cat,' 11, 'cat,' True] for the next three questions.\n",
    "\n",
    "6. What is the value of bacon.index('cat')?\n",
    "Answer: if bacon = [3.14, 'cat', 11, 'cat', True]\n",
    "        then bacon.index('cat') will return first occurrence i.e 1\n",
    "\n",
    "7. How does bacon.append(99) change the look of the list value in bacon?\n",
    "Answer: 99 will be added at the end of the list, last position.\n",
    "[3.14, 'cat', 11, 'cat', True, 99]\n",
    "\n",
    "8. How does bacon.remove('cat') change the look of the list meaning in bacon?\n",
    "Answer: [3.14, 11, 'cat', True] i.e removed the first occurrence of \"cat\".\n",
    "\n",
    "9. What are the list concatenation and list replication operators?\n",
    "Answer: list concatenation operator: +\n",
    "        list replication operators : *\n",
    "10. What is difference between the list methods append() and insert()?\n",
    "\n",
    "Answer: append() adds element at the end of the object where as insert() adds element/item at desired position/index.\n",
    "11. What are the two methods for removing items from a list?\n",
    "\n",
    "Answer: pop() uses index as argument and remove() uses item as argument for item removal.\n",
    "\n",
    "12. Describe how list values and string values are identical.\n",
    "Answer: Both are iterable\n",
    "\n",
    "13. What's the difference between tuples and lists?\n",
    "Answer: tuples are immutable  while lists are mutable\n",
    "\n",
    "\n",
    "\n",
    "\n",
    "\n"
   ]
  },
  {
   "cell_type": "code",
   "execution_count": 53,
   "metadata": {},
   "outputs": [
    {
     "data": {
      "text/plain": [
       "tuple"
      ]
     },
     "execution_count": 53,
     "metadata": {},
     "output_type": "execute_result"
    }
   ],
   "source": [
    "#14. How do you type a tuple value that only contains the integer 42?\n",
    "tuple_object=(42,)\n",
    "type(tuple_object)"
   ]
  },
  {
   "cell_type": "code",
   "execution_count": 50,
   "metadata": {},
   "outputs": [
    {
     "name": "stdout",
     "output_type": "stream",
     "text": [
      "<class 'list'>\n",
      "<class 'tuple'>\n",
      "<class 'tuple'>\n",
      "<class 'list'>\n"
     ]
    }
   ],
   "source": [
    "#15. How do you get a list value's tuple form? How do you get a tuple value's list form?\n",
    "#Answser: \n",
    "#typecasting: tuple into list: list(tuple object)\n",
    "#typecasting: list into tuple: tuple(list object)\n",
    "a=[\"i\",9]\n",
    "print(type(a))\n",
    "a=tuple(a)\n",
    "print(type(a))\n",
    "\n",
    "b=(5,8,9,9)\n",
    "print(type(b))\n",
    "b=list(b)\n",
    "print(type(b))\n"
   ]
  },
  {
   "cell_type": "markdown",
   "metadata": {},
   "source": [
    "16. Variables that \"contain\" list values are not necessarily lists themselves. Instead, what do they contain?\n",
    "Answer: \n",
    "\n",
    "17. How do you distinguish between copy.copy() and copy.deepcopy()?\n",
    "\n",
    "answer: copy.copy() is used for shallow copy in which it creates a new compound object and then inserts the references of the original compound object. This makes the changes visible in the original object as well if there is any change is made in the new compound object. copy.deepcopy() is used for deep copy in which it creates a new compound object and then inserts the copy of the original compound object. This makes the changes doesnt visible in the original object if there is any change is made in the new compound object. both are relevent only for compound object.\n"
   ]
  },
  {
   "cell_type": "code",
   "execution_count": null,
   "metadata": {},
   "outputs": [],
   "source": []
  }
 ],
 "metadata": {
  "kernelspec": {
   "display_name": "Python 3",
   "language": "python",
   "name": "python3"
  },
  "language_info": {
   "codemirror_mode": {
    "name": "ipython",
    "version": 3
   },
   "file_extension": ".py",
   "mimetype": "text/x-python",
   "name": "python",
   "nbconvert_exporter": "python",
   "pygments_lexer": "ipython3",
   "version": "3.8.5"
  }
 },
 "nbformat": 4,
 "nbformat_minor": 4
}
