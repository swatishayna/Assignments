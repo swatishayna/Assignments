{
 "cells": [
  {
   "cell_type": "markdown",
   "id": "a25691d8",
   "metadata": {},
   "source": [
    "Q1. What is the difference between __getattr__ and __getattribute__?\n",
    "\n",
    "Answer: getattr is called when there is no attribute found in the expected places i.e that particular attribute is not present as instance attribute or even class attribute not in the child or even in parent class. and called when getattribute is not able to access the required attribute. setattr is called then alog with getattr otherwise there is no way to find the values for that particular attribute. \n",
    "\n",
    "getattribute gets called in order to access the attribute . This should either return attribute value or raise an exception.In order to avoid infinite recursion in this method, its implementation should always call the base class method with the same name to access any attributes it needs.\n",
    "\n",
    "Q2. What is the difference between properties and descriptors?\n",
    "\n",
    "Answer: Descriptor is a mechanism behind properties while property is implemented using descriptor \n",
    "\n",
    "\n",
    "Q3. What are the key differences in functionality between __getattr__ and __getattribute__, as well as properties and descriptors?\n",
    "Answer: __getattr__ and __getattribute__  : Explaination in the question1 and implementation using codes below"
   ]
  },
  {
   "cell_type": "code",
   "execution_count": 1,
   "id": "0f3ca12a",
   "metadata": {},
   "outputs": [],
   "source": [
    "class Employee(object):\n",
    "    def __init__(self, name):\n",
    "        self.name = name\n",
    "      \n",
    "    def __getattribute__(self, item):\n",
    "        print('__getattribute__',item)\n",
    "        \n",
    "        return super(Employee, self).__getattribute__(item)\n",
    "        \n",
    "      \n",
    "    def __getattr__(self, item):\n",
    "        print('__getattr__',item)\n",
    "        \n",
    "        return super(Employee,self).__setattr__(item,'as per the designation')"
   ]
  },
  {
   "cell_type": "code",
   "execution_count": 2,
   "id": "29887571",
   "metadata": {},
   "outputs": [],
   "source": [
    "e3 = Employee(\"ineuron\")"
   ]
  },
  {
   "cell_type": "code",
   "execution_count": 3,
   "id": "65020341",
   "metadata": {},
   "outputs": [
    {
     "name": "stdout",
     "output_type": "stream",
     "text": [
      "__getattribute__ name\n"
     ]
    },
    {
     "data": {
      "text/plain": [
       "'ineuron'"
      ]
     },
     "execution_count": 3,
     "metadata": {},
     "output_type": "execute_result"
    }
   ],
   "source": [
    "e3.name"
   ]
  },
  {
   "cell_type": "code",
   "execution_count": 4,
   "id": "0fcf8712",
   "metadata": {},
   "outputs": [
    {
     "name": "stdout",
     "output_type": "stream",
     "text": [
      "__getattribute__ salary\n",
      "__getattr__ salary\n"
     ]
    }
   ],
   "source": [
    "e3.salary"
   ]
  },
  {
   "cell_type": "code",
   "execution_count": 5,
   "id": "32dadea3",
   "metadata": {},
   "outputs": [
    {
     "name": "stdout",
     "output_type": "stream",
     "text": [
      "__getattribute__ __dict__\n"
     ]
    },
    {
     "data": {
      "text/plain": [
       "{'name': 'ineuron', 'salary': 'as per the designation'}"
      ]
     },
     "execution_count": 5,
     "metadata": {},
     "output_type": "execute_result"
    }
   ],
   "source": [
    "e3.__dict__"
   ]
  },
  {
   "cell_type": "code",
   "execution_count": 6,
   "id": "feefb9a1",
   "metadata": {},
   "outputs": [
    {
     "name": "stdout",
     "output_type": "stream",
     "text": [
      "__getattribute__ position\n",
      "__getattr__ position\n"
     ]
    }
   ],
   "source": [
    "e3.position"
   ]
  },
  {
   "cell_type": "code",
   "execution_count": 7,
   "id": "2ca05f5c",
   "metadata": {},
   "outputs": [
    {
     "name": "stdout",
     "output_type": "stream",
     "text": [
      "__getattribute__ __dict__\n"
     ]
    },
    {
     "data": {
      "text/plain": [
       "{'name': 'ineuron',\n",
       " 'salary': 'as per the designation',\n",
       " 'position': 'as per the designation'}"
      ]
     },
     "execution_count": 7,
     "metadata": {},
     "output_type": "execute_result"
    }
   ],
   "source": [
    "e3.__dict__"
   ]
  },
  {
   "cell_type": "code",
   "execution_count": null,
   "id": "27d9b905",
   "metadata": {},
   "outputs": [],
   "source": [
    "\n"
   ]
  }
 ],
 "metadata": {
  "kernelspec": {
   "display_name": "Python 3",
   "language": "python",
   "name": "python3"
  },
  "language_info": {
   "codemirror_mode": {
    "name": "ipython",
    "version": 3
   },
   "file_extension": ".py",
   "mimetype": "text/x-python",
   "name": "python",
   "nbconvert_exporter": "python",
   "pygments_lexer": "ipython3",
   "version": "3.8.8"
  }
 },
 "nbformat": 4,
 "nbformat_minor": 5
}
