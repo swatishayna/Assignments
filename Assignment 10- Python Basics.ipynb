{
 "cells": [
  {
   "cell_type": "raw",
   "metadata": {},
   "source": [
    ". How do you distinguish between shutil.copy() and shutil.copytree()?"
   ]
  },
  {
   "cell_type": "raw",
   "metadata": {},
   "source": [
    "import shutil\n",
    "shutil.copytree() will Recursively copy a directory tree and return the destination directory.It will copy all the file present in the folder and all subfolders\n",
    "shutil.copy() WILL Copy data and mode bits (\"cp src dst\"). Return the file's destination.: It will copy single file "
   ]
  },
  {
   "cell_type": "raw",
   "metadata": {},
   "source": [
    "2. What is the name of the feature used to rename files?"
   ]
  },
  {
   "cell_type": "raw",
   "metadata": {},
   "source": [
    "import os\n",
    "os.rename()\n"
   ]
  },
  {
   "cell_type": "raw",
   "metadata": {},
   "source": [
    "3. How are the delete functions in the send2trash and shutil modules different?"
   ]
  },
  {
   "cell_type": "raw",
   "metadata": {},
   "source": [
    "import send2trash\n",
    "send2trash.send2trash() will not delete file permanently but sends it to recycle bin howsoever os.rmdir\n",
    "os.remove() will delte files permanently \n",
    "shutil.rmdir() and shutil.remove() will delete files permanently"
   ]
  },
  {
   "cell_type": "raw",
   "metadata": {},
   "source": [
    "4. ZipFile objects have a close() function that is similar to that of File objects. What ZipFile method is similar to the open() method of File objects?"
   ]
  },
  {
   "cell_type": "raw",
   "metadata": {},
   "source": [
    "from zipfile import ZipFile\n",
    "with ZipFile()"
   ]
  },
  {
   "cell_type": "raw",
   "metadata": {},
   "source": [
    "5. Create a programme that searches a folder tree for files with a certain file extension (such as .pdf or .jpg). Copy these files to a new folder from wherever they are now."
   ]
  },
  {
   "cell_type": "code",
   "execution_count": 13,
   "metadata": {},
   "outputs": [
    {
     "name": "stdout",
     "output_type": "stream",
     "text": [
      "done\n"
     ]
    }
   ],
   "source": [
    "l_failtocopy= []\n",
    "l_copy=[]\n",
    "count = 0\n",
    "for root,dirs,files in os.walk(\"F:\\\\\"):\n",
    "    for file in files:\n",
    "        if (file.endswith(\".zip\") or file.endswith(\".jpg\")):\n",
    "            count = count + 1\n",
    "            filenamepath = os.path.join(root, file)\n",
    "            if os.path.isdir(\"F:\\\\jpgandzip\")==False:\n",
    "                os.mkdir(\"F:\\\\jpgandzip\")\n",
    "            dest = \"F:\\\\jpgandzip\"\n",
    "            try:\n",
    "                shutil.copy(filenamepath,dest)\n",
    "                l_copy.append(file)\n",
    "            except:\n",
    "                l_failtocopy.append(file)\n",
    "print(\"done\")"
   ]
  },
  {
   "cell_type": "code",
   "execution_count": 16,
   "metadata": {},
   "outputs": [
    {
     "name": "stdout",
     "output_type": "stream",
     "text": [
      "all copied\n"
     ]
    }
   ],
   "source": [
    "if (len(l_copy)+len(l_failtocopy))==count:\n",
    "    print(\"all copied\")\n"
   ]
  },
  {
   "cell_type": "code",
   "execution_count": null,
   "metadata": {},
   "outputs": [],
   "source": []
  },
  {
   "cell_type": "code",
   "execution_count": null,
   "metadata": {},
   "outputs": [],
   "source": []
  }
 ],
 "metadata": {
  "kernelspec": {
   "display_name": "Python 3",
   "language": "python",
   "name": "python3"
  },
  "language_info": {
   "codemirror_mode": {
    "name": "ipython",
    "version": 3
   },
   "file_extension": ".py",
   "mimetype": "text/x-python",
   "name": "python",
   "nbconvert_exporter": "python",
   "pygments_lexer": "ipython3",
   "version": "3.8.5"
  }
 },
 "nbformat": 4,
 "nbformat_minor": 4
}
