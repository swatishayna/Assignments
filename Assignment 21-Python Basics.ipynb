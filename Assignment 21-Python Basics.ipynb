{
 "cells": [
  {
   "cell_type": "code",
   "execution_count": 1,
   "id": "caf2a665",
   "metadata": {},
   "outputs": [],
   "source": [
    "#1. Add the current date to the text file today.txt as a string.\n",
    "f = open(\"today.txt\", \"w\")\n",
    "import datetime\n",
    "date = datetime.date.today()\n",
    "f.write(str(date))\n",
    "f.close()"
   ]
  },
  {
   "cell_type": "code",
   "execution_count": 2,
   "id": "c2f0ea90",
   "metadata": {},
   "outputs": [
    {
     "data": {
      "text/plain": [
       "'2021-06-08'"
      ]
     },
     "execution_count": 2,
     "metadata": {},
     "output_type": "execute_result"
    }
   ],
   "source": [
    "#2. Read the text file today.txt into the string today_string\n",
    "\n",
    "f = open(\"today.txt\", \"r\")\n",
    "today_string=f.read()\n",
    "today_string"
   ]
  },
  {
   "cell_type": "code",
   "execution_count": 3,
   "id": "255a464a",
   "metadata": {},
   "outputs": [
    {
     "data": {
      "text/plain": [
       "datetime.datetime(2021, 6, 8, 0, 0)"
      ]
     },
     "execution_count": 3,
     "metadata": {},
     "output_type": "execute_result"
    }
   ],
   "source": [
    "#3. Parse the date from today_string.\n",
    "\n",
    "today_date = datetime.datetime.strptime(today_string, '%Y-%m-%d')\n",
    "today_date"
   ]
  },
  {
   "cell_type": "code",
   "execution_count": 4,
   "id": "1a0a6665",
   "metadata": {},
   "outputs": [
    {
     "data": {
      "text/plain": [
       "['.ipynb_checkpoints',\n",
       " 'Assignment  23-Python Basics.ipynb',\n",
       " 'Assignment 1-Python Basics.ipynb',\n",
       " 'Assignment 10- Python Basics.ipynb',\n",
       " 'Assignment 11-Python Basics.ipynb',\n",
       " 'Assignment 12- Python Basics.ipynb',\n",
       " 'Assignment 14- Python Basics.ipynb',\n",
       " 'Assignment 15-Python Basics.ipynb',\n",
       " 'Assignment 16 Python Basics.ipynb',\n",
       " 'Assignment 17 Python Basic.ipynb',\n",
       " 'Assignment 18 Python Basic.ipynb',\n",
       " 'Assignment 19 Python Basic.ipynb',\n",
       " 'Assignment 2- Python Basics.ipynb',\n",
       " 'Assignment 20 Python Basic-incomplete.ipynb',\n",
       " 'Assignment 21-Python Basics.ipynb',\n",
       " 'Assignment 22-Python Basics.ipynb',\n",
       " 'Assignment 24 Python Basics.ipynb',\n",
       " 'Assignment 25- Python Basics.ipynb',\n",
       " 'Assignment 3- Python Basics.ipynb',\n",
       " 'Assignment 4- Python Basics.ipynb',\n",
       " 'Assignment 5- Python Basics.ipynb',\n",
       " 'Assignment 6- Python Basics.ipynb',\n",
       " 'Assignment 7- Python Basics.ipynb',\n",
       " 'Assignment 8- Python Basics.ipynb',\n",
       " 'Assignment 9- Python Basics.ipynb',\n",
       " 'Assignment-13-Python Basics.ipynb',\n",
       " 'books.csv',\n",
       " 'ineuronlogo-Assignmnet14.jpg',\n",
       " 'newfile.pdf',\n",
       " 'programLog.txt',\n",
       " 'test.txt',\n",
       " 'today.txt',\n",
       " 'Untitled.ipynb',\n",
       " 'untitled.txt',\n",
       " 'zoo.py',\n",
       " '__pycache__']"
      ]
     },
     "execution_count": 4,
     "metadata": {},
     "output_type": "execute_result"
    }
   ],
   "source": [
    "#4. List the files in your current directory\n",
    "import os\n",
    "os.listdir()"
   ]
  },
  {
   "cell_type": "code",
   "execution_count": 5,
   "id": "0534eda7",
   "metadata": {},
   "outputs": [
    {
     "name": "stdout",
     "output_type": "stream",
     "text": [
      "D:\\data science\\ineuron\\Python\\Assignments\\Python Basic\\Solved\n"
     ]
    },
    {
     "data": {
      "text/plain": [
       "['.ipynb_checkpoints',\n",
       " 'Assignment  23-Python Basics.ipynb',\n",
       " 'Assignment 1-Python Basics.ipynb',\n",
       " 'Assignment 10- Python Basics.ipynb',\n",
       " 'Assignment 11-Python Basics.ipynb',\n",
       " 'Assignment 12- Python Basics.ipynb',\n",
       " 'Assignment 14- Python Basics.ipynb',\n",
       " 'Assignment 15-Python Basics.ipynb',\n",
       " 'Assignment 16 Python Basics.ipynb',\n",
       " 'Assignment 17 Python Basic.ipynb',\n",
       " 'Assignment 18 Python Basic.ipynb',\n",
       " 'Assignment 19 Python Basic.ipynb',\n",
       " 'Assignment 2- Python Basics.ipynb',\n",
       " 'Assignment 20 Python Basic-incomplete.ipynb',\n",
       " 'Assignment 21-Python Basics.ipynb',\n",
       " 'Assignment 22-Python Basics.ipynb',\n",
       " 'Assignment 24 Python Basics.ipynb',\n",
       " 'Assignment 25- Python Basics.ipynb',\n",
       " 'Assignment 3- Python Basics.ipynb',\n",
       " 'Assignment 4- Python Basics.ipynb',\n",
       " 'Assignment 5- Python Basics.ipynb',\n",
       " 'Assignment 6- Python Basics.ipynb',\n",
       " 'Assignment 7- Python Basics.ipynb',\n",
       " 'Assignment 8- Python Basics.ipynb',\n",
       " 'Assignment 9- Python Basics.ipynb',\n",
       " 'Assignment-13-Python Basics.ipynb',\n",
       " 'books.csv',\n",
       " 'ineuronlogo-Assignmnet14.jpg',\n",
       " 'newfile.pdf',\n",
       " 'programLog.txt',\n",
       " 'test.txt',\n",
       " 'today.txt',\n",
       " 'Untitled.ipynb',\n",
       " 'untitled.txt',\n",
       " 'zoo.py',\n",
       " '__pycache__']"
      ]
     },
     "execution_count": 5,
     "metadata": {},
     "output_type": "execute_result"
    }
   ],
   "source": [
    "#5. Create a list of all of the files in your parent directory (minimum five files should be available).\n",
    "import os\n",
    "print(os.getcwd())\n",
    "l=os.listdir()\n",
    "l"
   ]
  },
  {
   "cell_type": "code",
   "execution_count": 6,
   "id": "ccf84119",
   "metadata": {},
   "outputs": [],
   "source": [
    "#6. Use multiprocessing to create three separate processes. Make each one wait a random number of seconds between one \n",
    "#and five, print the current time, and then exit.\n"
   ]
  },
  {
   "cell_type": "code",
   "execution_count": 7,
   "id": "12367084",
   "metadata": {},
   "outputs": [
    {
     "name": "stdout",
     "output_type": "stream",
     "text": [
      "Enter Your Bday  in the format dd/mm/yyyy here---->30/08/1996\n",
      "1996-08-30 00:00:00\n"
     ]
    }
   ],
   "source": [
    "#7. Create a date object of your day of birth.\n",
    "bday = input(\"Enter Your Bday  in the format dd/mm/yyyy here---->\")\n",
    "try:\n",
    "    bdate = datetime.datetime.strptime(bday, \"%d/%m/%Y\")\n",
    "    print(bdate)\n",
    "except:\n",
    "    print(\"Invalid Format\")"
   ]
  },
  {
   "cell_type": "code",
   "execution_count": 8,
   "id": "fa2bd184",
   "metadata": {},
   "outputs": [
    {
     "data": {
      "text/plain": [
       "5"
      ]
     },
     "execution_count": 8,
     "metadata": {},
     "output_type": "execute_result"
    }
   ],
   "source": [
    "#8. What day of the week was your day of birth?\n",
    "bdate.isoweekday()\n"
   ]
  },
  {
   "cell_type": "code",
   "execution_count": 9,
   "id": "2db43998",
   "metadata": {},
   "outputs": [
    {
     "data": {
      "text/plain": [
       "datetime.datetime(2024, 1, 16, 0, 0)"
      ]
     },
     "execution_count": 9,
     "metadata": {},
     "output_type": "execute_result"
    }
   ],
   "source": [
    "#9. When will you be (or when were you) 10,000 days old?\n",
    "bdate+datetime.timedelta(10000)"
   ]
  },
  {
   "cell_type": "code",
   "execution_count": null,
   "id": "4ac549ef",
   "metadata": {},
   "outputs": [],
   "source": []
  }
 ],
 "metadata": {
  "kernelspec": {
   "display_name": "Python 3",
   "language": "python",
   "name": "python3"
  },
  "language_info": {
   "codemirror_mode": {
    "name": "ipython",
    "version": 3
   },
   "file_extension": ".py",
   "mimetype": "text/x-python",
   "name": "python",
   "nbconvert_exporter": "python",
   "pygments_lexer": "ipython3",
   "version": "3.8.8"
  }
 },
 "nbformat": 4,
 "nbformat_minor": 5
}
